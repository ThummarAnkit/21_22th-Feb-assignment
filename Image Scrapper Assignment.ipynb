{
 "cells": [
  {
   "cell_type": "markdown",
   "id": "61f26129",
   "metadata": {},
   "source": [
    "# Go to this given URL and solve the following questions\n",
    "URL: https://www.youtube.com/@PW-Foundation/videos"
   ]
  },
  {
   "cell_type": "markdown",
   "id": "4e4f28fe",
   "metadata": {},
   "source": [
    "Deployment link : https://scrap-youtube.azurewebsites.net/"
   ]
  },
  {
   "cell_type": "code",
   "execution_count": 1,
   "id": "1b100bb5",
   "metadata": {},
   "outputs": [],
   "source": [
    "from bs4 import BeautifulSoup as bs\n",
    "import requests\n",
    "from urllib.request import urlopen as uReq\n",
    "from webdriver_manager.chrome import ChromeDriverManager\n",
    "from selenium import webdriver\n",
    "from selenium.webdriver.chrome.service import Service as ChromeService\n",
    "import re\n",
    "import pandas as pd"
   ]
  },
  {
   "cell_type": "code",
   "execution_count": 2,
   "id": "abd33d88",
   "metadata": {},
   "outputs": [
    {
     "name": "stderr",
     "output_type": "stream",
     "text": [
      "[WDM] - Downloading: 100%|█████████████████████████████████████████████████████████| 6.78M/6.78M [00:33<00:00, 214kB/s]\n"
     ]
    }
   ],
   "source": [
    "chrome_service = ChromeService(executable_path=ChromeDriverManager().install())\n",
    "chrome_options = webdriver.ChromeOptions()\n",
    "chrome_options.add_argument('--headless')\n",
    "driver = webdriver.Chrome(service=chrome_service, options=chrome_options)"
   ]
  },
  {
   "cell_type": "code",
   "execution_count": 3,
   "id": "32134f88",
   "metadata": {},
   "outputs": [],
   "source": [
    "youtube_url = \"https://www.youtube.com/@PW-Foundation/videos\"\n",
    "driver.get(youtube_url)\n",
    "driver.implicitly_wait(10)\n",
    "youtube_source = driver.page_source\n",
    "youtube_html = bs(youtube_source, \"html.parser\")\n",
    "#driver.close()"
   ]
  },
  {
   "cell_type": "markdown",
   "id": "c3daef11",
   "metadata": {},
   "source": [
    "# Q1. Write a python program to extract the video URL of the first five videos."
   ]
  },
  {
   "cell_type": "code",
   "execution_count": 4,
   "id": "d0631c5e",
   "metadata": {},
   "outputs": [
    {
     "name": "stdout",
     "output_type": "stream",
     "text": [
      "https://www.youtube.com//watch?v=iM_hVnElC-Q\n",
      "https://www.youtube.com//watch?v=Prly9d7LoAQ\n",
      "https://www.youtube.com//watch?v=AvwBDiCWSEM\n",
      "https://www.youtube.com//watch?v=jQzKkMEaWFA\n",
      "https://www.youtube.com//watch?v=6weIshsiLlM\n"
     ]
    }
   ],
   "source": [
    "## extract video urls\n",
    "youtube_a_tags = youtube_html.find_all('a',class_=\"ytd-thumbnail\")\n",
    "youtube_a_tags = youtube_a_tags[1:6]\n",
    "youtube_extract_urls = []\n",
    "for i in youtube_a_tags:\n",
    "    youtube_extract_urls.append(\"https://www.youtube.com/\"+i.get('href'))\n",
    "    print(\"https://www.youtube.com/\"+i.get('href'))"
   ]
  },
  {
   "cell_type": "markdown",
   "id": "d1b9cec1",
   "metadata": {},
   "source": [
    "# Q2. Write a python program to extract the URL of the video thumbnails of the first five videos."
   ]
  },
  {
   "cell_type": "code",
   "execution_count": 5,
   "id": "851dfe1d",
   "metadata": {},
   "outputs": [
    {
     "name": "stdout",
     "output_type": "stream",
     "text": [
      "https://i.ytimg.com/vi/iM_hVnElC-Q/maxresdefault.jpg\n",
      "https://i.ytimg.com/vi/Prly9d7LoAQ/maxresdefault.jpg\n",
      "https://i.ytimg.com/vi/AvwBDiCWSEM/maxresdefault.jpg\n",
      "https://i.ytimg.com/vi/jQzKkMEaWFA/maxresdefault.jpg\n",
      "https://i.ytimg.com/vi/6weIshsiLlM/maxresdefault.jpg\n"
     ]
    }
   ],
   "source": [
    "youtube_extract_thumbnails = []\n",
    "for i in youtube_extract_urls:\n",
    "    driver.get(i)\n",
    "    video_page_source = bs(driver.page_source,\"html.parser\")\n",
    "    find = video_page_source.find('link',itemprop=\"thumbnailUrl\")\n",
    "    youtube_extract_thumbnails.append(find['href'])\n",
    "for thumbnail in youtube_extract_thumbnails:\n",
    "    print(thumbnail)"
   ]
  },
  {
   "cell_type": "markdown",
   "id": "95387a82",
   "metadata": {},
   "source": [
    "# Q3. Write a python program to extract the title of the first five videos."
   ]
  },
  {
   "cell_type": "code",
   "execution_count": 6,
   "id": "12d9477c",
   "metadata": {},
   "outputs": [
    {
     "name": "stdout",
     "output_type": "stream",
     "text": [
      "Complete 𝐇𝐄𝐑𝐄𝐃𝐈𝐓𝐘 𝐀𝐍𝐃 𝐄𝐕𝐎𝐋𝐔𝐓𝐈𝐎𝐍 in 2 Hours|| Class 10th Biology\n",
      "Complete 𝗛𝗢𝗪 𝗗𝗢 𝗢𝗥𝗚𝗔𝗡𝗜𝗦𝗠𝗦 𝗥𝗘𝗣𝗥𝗢𝗗𝗨𝗖𝗘 in 1 Hours 50 Minutes|| Class 10th Biology\n",
      "Complete 𝗢𝗨𝗥 𝗘𝗡𝗩𝗜𝗥𝗢𝗡𝗠𝗘𝗡𝗧 in 1 Hour 30 Minutes | Class 10th Board Exam\n",
      "Complete 𝗖𝗼𝗻𝘁𝗿𝗼𝗹 𝗮𝗻𝗱 𝗖𝗼𝗼𝗿𝗱𝗶𝗻𝗮𝘁𝗶𝗼𝗻 in 1 Hours 50 Minutes | Class 10th Board Exam\n",
      "Complete 𝗟𝗶𝗳𝗲 𝗣𝗿𝗼𝗰𝗲𝘀𝘀𝗲𝘀 in 2 Hours 58 Minutes | Class 10th Board Exam\n"
     ]
    }
   ],
   "source": [
    "youtube_extract_titles=[]\n",
    "youtube_heading_tags = youtube_html.find_all('h3',class_=\"style-scope ytd-rich-grid-media\")\n",
    "youtube_heading_tags = youtube_heading_tags[:5]\n",
    "for i in youtube_heading_tags:\n",
    "    youtube_extract_titles.append(i.text)\n",
    "    print(i.text)"
   ]
  },
  {
   "cell_type": "markdown",
   "id": "92ac99e3",
   "metadata": {},
   "source": [
    "# Q4. Write a python program to extract the number of views of the first five videos."
   ]
  },
  {
   "cell_type": "code",
   "execution_count": 7,
   "id": "b39787af",
   "metadata": {},
   "outputs": [
    {
     "name": "stdout",
     "output_type": "stream",
     "text": [
      "16K views\n",
      "9.3K views\n",
      "22K views\n",
      "19K views\n",
      "40K views\n"
     ]
    }
   ],
   "source": [
    "youtube_extract_views=[]\n",
    "youtube_span_tags = youtube_html.find_all('span',class_=\"inline-metadata-item style-scope ytd-video-meta-block\")\n",
    "views_pattern = re.compile(\"\\d+.*views\")\n",
    "\n",
    "views_spans = []\n",
    "for span in youtube_span_tags:\n",
    "    if views_pattern.search(span.text):\n",
    "        views_spans.append(span)\n",
    "        \n",
    "views_spans = views_spans[:5]\n",
    "for span in views_spans:\n",
    "    youtube_extract_views.append(span.text)\n",
    "    print(span.text)"
   ]
  },
  {
   "cell_type": "markdown",
   "id": "e1c2c039",
   "metadata": {},
   "source": [
    "# Q5. Write a python program to extract the time of posting of video for the first five videos."
   ]
  },
  {
   "cell_type": "code",
   "execution_count": 8,
   "id": "5c5b820b",
   "metadata": {},
   "outputs": [
    {
     "name": "stdout",
     "output_type": "stream",
     "text": [
      "10 hours ago\n",
      "13 hours ago\n",
      "15 hours ago\n",
      "16 hours ago\n",
      "17 hours ago\n"
     ]
    }
   ],
   "source": [
    "views_pattern = re.compile(\"\\d+.*ago\")\n",
    "youtube_extract_upload_time=[]\n",
    "views_spans = []\n",
    "for span in youtube_span_tags:\n",
    "    if views_pattern.search(span.text):\n",
    "        views_spans.append(span)\n",
    "        \n",
    "        \n",
    "# views_spans = [span for span in youtube_span_tags if views_pattern.search(span.text)]\n",
    "views_spans = views_spans[:5]\n",
    "for span in views_spans:\n",
    "    youtube_extract_upload_time.append(span.text)\n",
    "    print(span.text)\n",
    "    \n",
    "driver.close()"
   ]
  },
  {
   "cell_type": "markdown",
   "id": "9a73d8a9",
   "metadata": {},
   "source": [
    "# Save the data to the CSV file"
   ]
  },
  {
   "cell_type": "code",
   "execution_count": 9,
   "id": "34399c4a",
   "metadata": {},
   "outputs": [],
   "source": [
    "data = { 'Youtube Urls': youtube_extract_urls,\n",
    "                        'Thumbnails':youtube_extract_thumbnails,\n",
    "                        'Titles':youtube_extract_titles,\n",
    "                        'Views': youtube_extract_views,\n",
    "                        'Upload Time':youtube_extract_upload_time\n",
    "                    }\n",
    "df = pd.DataFrame(data)\n",
    "\n",
    "df.to_csv('YouTube_data.csv', index=False)"
   ]
  },
  {
   "cell_type": "code",
   "execution_count": 10,
   "id": "d3345869",
   "metadata": {},
   "outputs": [
    {
     "data": {
      "text/html": [
       "<div>\n",
       "<style scoped>\n",
       "    .dataframe tbody tr th:only-of-type {\n",
       "        vertical-align: middle;\n",
       "    }\n",
       "\n",
       "    .dataframe tbody tr th {\n",
       "        vertical-align: top;\n",
       "    }\n",
       "\n",
       "    .dataframe thead th {\n",
       "        text-align: right;\n",
       "    }\n",
       "</style>\n",
       "<table border=\"1\" class=\"dataframe\">\n",
       "  <thead>\n",
       "    <tr style=\"text-align: right;\">\n",
       "      <th></th>\n",
       "      <th>Youtube Urls</th>\n",
       "      <th>Thumbnails</th>\n",
       "      <th>Titles</th>\n",
       "      <th>Views</th>\n",
       "      <th>Upload Time</th>\n",
       "    </tr>\n",
       "  </thead>\n",
       "  <tbody>\n",
       "    <tr>\n",
       "      <th>0</th>\n",
       "      <td>https://www.youtube.com//watch?v=iM_hVnElC-Q</td>\n",
       "      <td>https://i.ytimg.com/vi/iM_hVnElC-Q/maxresdefau...</td>\n",
       "      <td>Complete 𝐇𝐄𝐑𝐄𝐃𝐈𝐓𝐘 𝐀𝐍𝐃 𝐄𝐕𝐎𝐋𝐔𝐓𝐈𝐎𝐍 in 2 Hours|| C...</td>\n",
       "      <td>16K views</td>\n",
       "      <td>10 hours ago</td>\n",
       "    </tr>\n",
       "    <tr>\n",
       "      <th>1</th>\n",
       "      <td>https://www.youtube.com//watch?v=Prly9d7LoAQ</td>\n",
       "      <td>https://i.ytimg.com/vi/Prly9d7LoAQ/maxresdefau...</td>\n",
       "      <td>Complete 𝗛𝗢𝗪 𝗗𝗢 𝗢𝗥𝗚𝗔𝗡𝗜𝗦𝗠𝗦 𝗥𝗘𝗣𝗥𝗢𝗗𝗨𝗖𝗘 in 1 Hours...</td>\n",
       "      <td>9.3K views</td>\n",
       "      <td>13 hours ago</td>\n",
       "    </tr>\n",
       "    <tr>\n",
       "      <th>2</th>\n",
       "      <td>https://www.youtube.com//watch?v=AvwBDiCWSEM</td>\n",
       "      <td>https://i.ytimg.com/vi/AvwBDiCWSEM/maxresdefau...</td>\n",
       "      <td>Complete 𝗢𝗨𝗥 𝗘𝗡𝗩𝗜𝗥𝗢𝗡𝗠𝗘𝗡𝗧 in 1 Hour 30 Minutes ...</td>\n",
       "      <td>22K views</td>\n",
       "      <td>15 hours ago</td>\n",
       "    </tr>\n",
       "    <tr>\n",
       "      <th>3</th>\n",
       "      <td>https://www.youtube.com//watch?v=jQzKkMEaWFA</td>\n",
       "      <td>https://i.ytimg.com/vi/jQzKkMEaWFA/maxresdefau...</td>\n",
       "      <td>Complete 𝗖𝗼𝗻𝘁𝗿𝗼𝗹 𝗮𝗻𝗱 𝗖𝗼𝗼𝗿𝗱𝗶𝗻𝗮𝘁𝗶𝗼𝗻 in 1 Hours 5...</td>\n",
       "      <td>19K views</td>\n",
       "      <td>16 hours ago</td>\n",
       "    </tr>\n",
       "    <tr>\n",
       "      <th>4</th>\n",
       "      <td>https://www.youtube.com//watch?v=6weIshsiLlM</td>\n",
       "      <td>https://i.ytimg.com/vi/6weIshsiLlM/maxresdefau...</td>\n",
       "      <td>Complete 𝗟𝗶𝗳𝗲 𝗣𝗿𝗼𝗰𝗲𝘀𝘀𝗲𝘀 in 2 Hours 58 Minutes ...</td>\n",
       "      <td>40K views</td>\n",
       "      <td>17 hours ago</td>\n",
       "    </tr>\n",
       "  </tbody>\n",
       "</table>\n",
       "</div>"
      ],
      "text/plain": [
       "                                   Youtube Urls  \\\n",
       "0  https://www.youtube.com//watch?v=iM_hVnElC-Q   \n",
       "1  https://www.youtube.com//watch?v=Prly9d7LoAQ   \n",
       "2  https://www.youtube.com//watch?v=AvwBDiCWSEM   \n",
       "3  https://www.youtube.com//watch?v=jQzKkMEaWFA   \n",
       "4  https://www.youtube.com//watch?v=6weIshsiLlM   \n",
       "\n",
       "                                          Thumbnails  \\\n",
       "0  https://i.ytimg.com/vi/iM_hVnElC-Q/maxresdefau...   \n",
       "1  https://i.ytimg.com/vi/Prly9d7LoAQ/maxresdefau...   \n",
       "2  https://i.ytimg.com/vi/AvwBDiCWSEM/maxresdefau...   \n",
       "3  https://i.ytimg.com/vi/jQzKkMEaWFA/maxresdefau...   \n",
       "4  https://i.ytimg.com/vi/6weIshsiLlM/maxresdefau...   \n",
       "\n",
       "                                              Titles       Views   Upload Time  \n",
       "0  Complete 𝐇𝐄𝐑𝐄𝐃𝐈𝐓𝐘 𝐀𝐍𝐃 𝐄𝐕𝐎𝐋𝐔𝐓𝐈𝐎𝐍 in 2 Hours|| C...   16K views  10 hours ago  \n",
       "1  Complete 𝗛𝗢𝗪 𝗗𝗢 𝗢𝗥𝗚𝗔𝗡𝗜𝗦𝗠𝗦 𝗥𝗘𝗣𝗥𝗢𝗗𝗨𝗖𝗘 in 1 Hours...  9.3K views  13 hours ago  \n",
       "2  Complete 𝗢𝗨𝗥 𝗘𝗡𝗩𝗜𝗥𝗢𝗡𝗠𝗘𝗡𝗧 in 1 Hour 30 Minutes ...   22K views  15 hours ago  \n",
       "3  Complete 𝗖𝗼𝗻𝘁𝗿𝗼𝗹 𝗮𝗻𝗱 𝗖𝗼𝗼𝗿𝗱𝗶𝗻𝗮𝘁𝗶𝗼𝗻 in 1 Hours 5...   19K views  16 hours ago  \n",
       "4  Complete 𝗟𝗶𝗳𝗲 𝗣𝗿𝗼𝗰𝗲𝘀𝘀𝗲𝘀 in 2 Hours 58 Minutes ...   40K views  17 hours ago  "
      ]
     },
     "execution_count": 10,
     "metadata": {},
     "output_type": "execute_result"
    }
   ],
   "source": [
    "df"
   ]
  },
  {
   "cell_type": "code",
   "execution_count": null,
   "id": "9346af13",
   "metadata": {},
   "outputs": [],
   "source": []
  }
 ],
 "metadata": {
  "kernelspec": {
   "display_name": "Python 3 (ipykernel)",
   "language": "python",
   "name": "python3"
  },
  "language_info": {
   "codemirror_mode": {
    "name": "ipython",
    "version": 3
   },
   "file_extension": ".py",
   "mimetype": "text/x-python",
   "name": "python",
   "nbconvert_exporter": "python",
   "pygments_lexer": "ipython3",
   "version": "3.9.7"
  }
 },
 "nbformat": 4,
 "nbformat_minor": 5
}
